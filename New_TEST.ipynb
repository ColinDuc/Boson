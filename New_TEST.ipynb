{
 "cells": [
  {
   "cell_type": "code",
   "execution_count": 1,
   "metadata": {
    "collapsed": false
   },
   "outputs": [],
   "source": [
    "# Useful starting lines\n",
    "%matplotlib inline\n",
    "import numpy as np\n",
    "import matplotlib.pyplot as plt\n",
    "%load_ext autoreload\n",
    "%autoreload 2\n",
    "\n",
    "from implementation import *"
   ]
  },
  {
   "cell_type": "markdown",
   "metadata": {},
   "source": [
    "# Load and clean the data"
   ]
  },
  {
   "cell_type": "code",
   "execution_count": 2,
   "metadata": {
    "collapsed": true
   },
   "outputs": [],
   "source": [
    "y,x,ids=load_csv_data(\"train.csv\") "
   ]
  },
  {
   "cell_type": "code",
   "execution_count": 3,
   "metadata": {
    "collapsed": false
   },
   "outputs": [],
   "source": [
    "# tej colonnes où y'a des -999\n",
    "\n",
    "x[x==-999]=np.NaN\n",
    "z=x[:,~np.isnan(x).any(axis=0)] #z is our matrix of observations with size (number of observations, number of features without -999)\n",
    "#z = build_poly(z,5)"
   ]
  },
  {
   "cell_type": "code",
   "execution_count": 4,
   "metadata": {
    "collapsed": false
   },
   "outputs": [],
   "source": [
    "# cross validation for 2 --> TO DO: FOR K\n",
    "\n",
    "Strain1_z, Stest1_z, Strain1_y, Stest1_y = split_data(z,y,0.8)\n",
    "\n",
    "# standardize the data (only centered here)\n",
    "\n",
    "Strain1_z = standardize(Strain1_z)\n",
    "Stest1_z = standardize(Stest1_z)\n",
    "Strain1_y = standardize(Strain1_y)\n",
    "Stest_y = standardize(Stest1_y)"
   ]
  },
  {
   "cell_type": "markdown",
   "metadata": {},
   "source": [
    "# Calculate MSE for result from least squares "
   ]
  },
  {
   "cell_type": "code",
   "execution_count": 5,
   "metadata": {
    "collapsed": false
   },
   "outputs": [
    {
     "name": "stdout",
     "output_type": "stream",
     "text": [
      "[-1. -1. -1. ...,  1.  1. -1.]\n"
     ]
    },
    {
     "data": {
      "text/plain": [
       "0.64518"
      ]
     },
     "execution_count": 5,
     "metadata": {},
     "output_type": "execute_result"
    }
   ],
   "source": [
    "beta1 = least_squares(Strain1_y, Strain1_z)      #beta from y = X^T*beta --> missing the column of ones'\n",
    "res1 = definitive_res(Stest1_z.dot(beta1))\n",
    "print(res1)\n",
    "len(Stest1_y[Stest1_y==res1])/len(Stest1_y)"
   ]
  },
  {
   "cell_type": "markdown",
   "metadata": {},
   "source": [
    "# Calculate MSE for results from least squares GD and SGD"
   ]
  },
  {
   "cell_type": "code",
   "execution_count": 6,
   "metadata": {
    "collapsed": true
   },
   "outputs": [],
   "source": [
    "initial_w = np.zeros(Strain1_z.shape[1])    #w is an array of size = number of features (i.e. number of columns in z)\n",
    "max_iters = 50\n",
    "gamma = 0.7"
   ]
  },
  {
   "cell_type": "markdown",
   "metadata": {},
   "source": [
    "# GD"
   ]
  },
  {
   "cell_type": "code",
   "execution_count": 7,
   "metadata": {
    "collapsed": false
   },
   "outputs": [
    {
     "data": {
      "text/plain": [
       "0.37736"
      ]
     },
     "execution_count": 7,
     "metadata": {},
     "output_type": "execute_result"
    }
   ],
   "source": [
    "beta2 = least_squares_GD(Strain1_y, Strain1_z, initial_w, max_iters, gamma)      #beta from y = X*beta --> missing the column of ones'\n",
    "res2 = definitive_res(Stest1_z.dot(beta2))\n",
    "len(Stest1_y[Stest1_y==res2])/len(Stest1_y)"
   ]
  },
  {
   "cell_type": "markdown",
   "metadata": {},
   "source": [
    "# SGD"
   ]
  },
  {
   "cell_type": "code",
   "execution_count": 8,
   "metadata": {
    "collapsed": false
   },
   "outputs": [
    {
     "data": {
      "text/plain": [
       "0.47282"
      ]
     },
     "execution_count": 8,
     "metadata": {},
     "output_type": "execute_result"
    }
   ],
   "source": [
    "batch_size = 1\n",
    "\n",
    "beta3 = least_squares_SGD(Strain1_y, Strain1_z, initial_w, batch_size, max_iters, gamma)      #beta from y = X*beta --> missing the column of ones'\n",
    "res3 = definitive_res(Stest1_z.dot(beta3))\n",
    "len(Stest1_y[Stest1_y==res3])/len(Stest1_y)"
   ]
  },
  {
   "cell_type": "markdown",
   "metadata": {},
   "source": [
    "# Calculate other LS for Ridge Regression "
   ]
  },
  {
   "cell_type": "code",
   "execution_count": 9,
   "metadata": {
    "collapsed": false
   },
   "outputs": [
    {
     "name": "stdout",
     "output_type": "stream",
     "text": [
      "[0.88460840887094994, 0.88460841183365735, 0.88460842713737819, 0.88460850618385956, 0.88460891315894163, 0.88461099273034471, 0.88462144043193258, 0.88467200926605549, 0.88489824925926908, 0.88576676290789547, 0.88834725805310177, 0.89383560367066051, 0.90261781867698754, 0.91536939356743507, 0.93321807541987101] [0.89664252680744594, 0.89664218560990216, 0.89664141792818453, 0.89663971487044136, 0.89663606464128953, 0.89662890361463332, 0.89661829110114, 0.8966208439332447, 0.89673802049874907, 0.89736426657322677, 0.89944342939083666, 0.90402639283308306, 0.91141360460448206, 0.92229805340802329, 0.9380305617806427]\n"
     ]
    }
   ],
   "source": [
    "lambdas = np.logspace(-5, 0, 15)\n",
    "\n",
    "# bluid poly\n",
    "tx_tr = build_poly(Strain1_z, 1)\n",
    "tx_te = build_poly(Stest1_z, 1)\n",
    "\n",
    "# ridge regression with different lambda\n",
    "rmse_tr = []\n",
    "rmse_te = []\n",
    "for ind, lambda_ in enumerate(lambdas):\n",
    "    # ridge regression\n",
    "    weight = ridge_regression(Strain1_y, tx_tr, lambda_)\n",
    "    rmse_tr.append(np.sqrt(2 * compute_mse(Strain1_y, tx_tr, weight)))\n",
    "    rmse_te.append(np.sqrt(2 * compute_mse(Stest1_y, tx_te, weight)))\n",
    "print(rmse_tr, rmse_te)"
   ]
  },
  {
   "cell_type": "code",
   "execution_count": null,
   "metadata": {
    "collapsed": true
   },
   "outputs": [],
   "source": []
  }
 ],
 "metadata": {
  "anaconda-cloud": {},
  "kernelspec": {
   "display_name": "Python [anaconda]",
   "language": "python",
   "name": "Python [anaconda]"
  },
  "language_info": {
   "codemirror_mode": {
    "name": "ipython",
    "version": 3
   },
   "file_extension": ".py",
   "mimetype": "text/x-python",
   "name": "python",
   "nbconvert_exporter": "python",
   "pygments_lexer": "ipython3",
   "version": "3.5.2"
  }
 },
 "nbformat": 4,
 "nbformat_minor": 2
}
