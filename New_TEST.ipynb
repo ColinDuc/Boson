{
 "cells": [
  {
   "cell_type": "code",
   "execution_count": 13,
   "metadata": {},
   "outputs": [
    {
     "name": "stdout",
     "output_type": "stream",
     "text": [
      "The autoreload extension is already loaded. To reload it, use:\n",
      "  %reload_ext autoreload\n"
     ]
    }
   ],
   "source": [
    "# Useful starting lines\n",
    "%matplotlib inline\n",
    "import numpy as np\n",
    "import matplotlib.pyplot as plt\n",
    "%load_ext autoreload\n",
    "%autoreload 2\n",
    "\n",
    "from implementation import *"
   ]
  },
  {
   "cell_type": "markdown",
   "metadata": {},
   "source": [
    "# Load and clean the data"
   ]
  },
  {
   "cell_type": "code",
   "execution_count": 14,
   "metadata": {},
   "outputs": [],
   "source": [
    "y,x,ids=load_csv_data(\"train.csv\") "
   ]
  },
  {
   "cell_type": "code",
   "execution_count": 18,
   "metadata": {},
   "outputs": [
    {
     "name": "stdout",
     "output_type": "stream",
     "text": [
      "[[ 51.655  97.827  27.98  ...   1.      0.      0.   ]\n",
      " [ 68.768 103.235  48.146 ...   0.      1.      0.   ]\n",
      " [162.172 125.953  35.635 ...   0.      1.      0.   ]\n",
      " ...\n",
      " [ 60.526  75.839  39.757 ...   0.      1.      0.   ]\n",
      " [ 19.362  68.812  13.504 ...   0.      0.      1.   ]\n",
      " [ 72.756  70.831   7.479 ...   0.      0.      1.   ]]\n",
      "(250000, 22)\n"
     ]
    }
   ],
   "source": [
    "# tej colonnes où y'a des -999\n",
    "\n",
    "x[x==-999]=np.NaN\n",
    "z=x[:,~np.isnan(x).any(axis=0)] #z is our matrix of observations with size (number of observations, number of features without -999)\n",
    "#z = build_poly(z,5)\n",
    "z=one_hot_jet_num(z,17)\n",
    "print(z)"
   ]
  },
  {
   "cell_type": "code",
   "execution_count": 19,
   "metadata": {},
   "outputs": [],
   "source": [
    "# cross validation for 2 --> TO DO: FOR K\n",
    "\n",
    "Strain1_z, Stest1_z, Strain1_y, Stest1_y = split_data(z,y,0.8)\n",
    "\n",
    "# standardize the data (only centered here)\n",
    "\n",
    "Strain1_z = standardize(Strain1_z)\n",
    "Stest1_z = standardize(Stest1_z)\n",
    "Strain1_y = standardize(Strain1_y)\n",
    "Stest_y = standardize(Stest1_y)"
   ]
  },
  {
   "cell_type": "markdown",
   "metadata": {},
   "source": [
    "# Calculate MSE for result from least squares "
   ]
  },
  {
   "cell_type": "code",
   "execution_count": 20,
   "metadata": {},
   "outputs": [
    {
     "name": "stdout",
     "output_type": "stream",
     "text": [
      "[-2.74674217e-01 -2.76289915e-01 -2.28195706e-02  3.00636886e-01\n",
      " -6.90780698e-03 -6.40625008e+02 -2.00102820e-01  1.32371010e-01\n",
      "  1.24270682e+02 -5.22074739e-04 -1.48474869e-03  1.22541265e+02\n",
      " -6.85106131e-04  2.70141344e-03  1.12281935e-01  6.74974947e-05\n",
      " -8.37207095e-02  5.42823062e+02 -2.87680585e+02 -4.05676634e+02\n",
      " -4.67687208e+02 -4.95392831e+02]\n",
      "[-1.  1.  1. ... -1.  1. -1.]\n"
     ]
    },
    {
     "data": {
      "text/plain": [
       "0.58546"
      ]
     },
     "execution_count": 20,
     "metadata": {},
     "output_type": "execute_result"
    }
   ],
   "source": [
    "beta1 = least_squares(Strain1_y, Strain1_z)      #beta from y = X^T*beta --> missing the column of ones'\n",
    "print(beta1)\n",
    "res1 = definitive_res(Stest1_z.dot(beta1))\n",
    "print(res1)\n",
    "len(Stest1_y[Stest1_y==res1])/len(Stest1_y)"
   ]
  },
  {
   "cell_type": "markdown",
   "metadata": {},
   "source": [
    "# Calculate MSE for results from least squares GD and SGD"
   ]
  },
  {
   "cell_type": "code",
   "execution_count": 21,
   "metadata": {},
   "outputs": [],
   "source": [
    "initial_w = np.zeros(Strain1_z.shape[1])    #w is an array of size = number of features (i.e. number of columns in z)\n",
    "max_iters = 50\n",
    "gamma = 0.7"
   ]
  },
  {
   "cell_type": "markdown",
   "metadata": {},
   "source": [
    "# GD"
   ]
  },
  {
   "cell_type": "code",
   "execution_count": 22,
   "metadata": {},
   "outputs": [
    {
     "data": {
      "text/plain": [
       "0.38028"
      ]
     },
     "execution_count": 22,
     "metadata": {},
     "output_type": "execute_result"
    }
   ],
   "source": [
    "beta2 = least_squares_GD(Strain1_y, Strain1_z, initial_w, max_iters, gamma)      #beta from y = X*beta --> missing the column of ones'\n",
    "res2 = definitive_res(Stest1_z.dot(beta2))\n",
    "len(Stest1_y[Stest1_y==res2])/len(Stest1_y)"
   ]
  },
  {
   "cell_type": "markdown",
   "metadata": {},
   "source": [
    "# SGD"
   ]
  },
  {
   "cell_type": "code",
   "execution_count": 23,
   "metadata": {},
   "outputs": [
    {
     "data": {
      "text/plain": [
       "0.57054"
      ]
     },
     "execution_count": 23,
     "metadata": {},
     "output_type": "execute_result"
    }
   ],
   "source": [
    "batch_size = 1\n",
    "\n",
    "beta3 = least_squares_SGD(Strain1_y, Strain1_z, initial_w, batch_size, max_iters, gamma)      #beta from y = X*beta --> missing the column of ones'\n",
    "res3 = definitive_res(Stest1_z.dot(beta3))\n",
    "len(Stest1_y[Stest1_y==res3])/len(Stest1_y)"
   ]
  },
  {
   "cell_type": "markdown",
   "metadata": {},
   "source": [
    "# Calculate other LS for Ridge Regression "
   ]
  },
  {
   "cell_type": "code",
   "execution_count": 24,
   "metadata": {},
   "outputs": [
    {
     "name": "stdout",
     "output_type": "stream",
     "text": [
      "[0.8797505561792611, 0.8797505591683703, 0.879750574615062, 0.8797506544021134, 0.8797510651817272, 0.8797531640836991, 0.8797637076725343, 0.8798147278826249, 0.8800428738574522, 0.8809179535187134, 0.8835148681631161, 0.8890298065428397, 0.8978370861002744, 0.9106525253549238, 0.9288701699073427] [0.8921614381223276, 0.8921611167268174, 0.8921603946136851, 0.8921587957496518, 0.8921553842177449, 0.8921487738720234, 0.8921394499411098, 0.8921450862129003, 0.8922697693291359, 0.8929136401662627, 0.8950281167170295, 0.8996624634728898, 0.9070934018676545, 0.9180294427302199, 0.9340611968530733]\n",
      "last weight: [ 7.75014782e-16 -9.25339465e-02 -5.77743345e-03  3.11031369e-02\n",
      "  2.81534620e-02 -1.30401899e-02  1.82595595e-02 -4.66417316e-02\n",
      "  6.12505051e-02  5.51222306e-02 -4.54912332e-04 -1.45483676e-03\n",
      " -1.24842795e-03 -4.67524618e-05  1.26941254e-03 -4.11684943e-03\n",
      "  1.23932932e-03  1.00170511e-02  9.23178935e-03 -2.09985537e-02\n",
      "  3.63262132e-02  1.87208061e-04 -1.77396877e-02]\n"
     ]
    }
   ],
   "source": [
    "lambdas = np.logspace(-5, 0, 15)\n",
    "\n",
    "# bluid poly\n",
    "tx_tr = build_poly(Strain1_z, 1)\n",
    "tx_te = build_poly(Stest1_z, 1)\n",
    "\n",
    "# ridge regression with different lambda\n",
    "rmse_tr = []\n",
    "rmse_te = []\n",
    "for ind, lambda_ in enumerate(lambdas):\n",
    "    # ridge regression\n",
    "    weight = ridge_regression(Strain1_y, tx_tr, lambda_)\n",
    "    rmse_tr.append(np.sqrt(2 * compute_mse(Strain1_y, tx_tr, weight)))\n",
    "    rmse_te.append(np.sqrt(2 * compute_mse(Stest1_y, tx_te, weight)))\n",
    "print(rmse_tr, rmse_te)\n",
    "print(\"last weight:\",weight)"
   ]
  },
  {
   "cell_type": "code",
   "execution_count": null,
   "metadata": {},
   "outputs": [],
   "source": []
  }
 ],
 "metadata": {
  "anaconda-cloud": {},
  "kernelspec": {
   "display_name": "Python 3",
   "language": "python",
   "name": "python3"
  },
  "language_info": {
   "codemirror_mode": {
    "name": "ipython",
    "version": 3
   },
   "file_extension": ".py",
   "mimetype": "text/x-python",
   "name": "python",
   "nbconvert_exporter": "python",
   "pygments_lexer": "ipython3",
   "version": "3.6.4"
  }
 },
 "nbformat": 4,
 "nbformat_minor": 2
}
